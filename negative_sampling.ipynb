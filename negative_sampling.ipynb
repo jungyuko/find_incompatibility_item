{
 "metadata": {
  "language_info": {
   "codemirror_mode": {
    "name": "ipython",
    "version": 3
   },
   "file_extension": ".py",
   "mimetype": "text/x-python",
   "name": "python",
   "nbconvert_exporter": "python",
   "pygments_lexer": "ipython3",
   "version": "3.8.2"
  },
  "orig_nbformat": 2,
  "kernelspec": {
   "name": "python382jvsc74a57bd0c0bba2e4c6e373ae0a6659ff5fed8ce7b58220f87173975cdd86d17e9aa5779a",
   "display_name": "Python 3.8.2 64-bit ('CRC_GNN': conda)"
  }
 },
 "nbformat": 4,
 "nbformat_minor": 2,
 "cells": [
  {
   "source": [
    "## dataset 준비\n",
    "dataset을 negative item을 추가해서 준비한다.\n",
    "\n",
    "1. outfit을 구성하는 item의 갯수 중 50퍼센트가 넘지않게 item을 랜덤하게 선택한다.\n",
    "2. 해당 item과 같은 category의 다른 item을 negative item으로 대체한다.\n",
    "3. negative item이라 하면은 outfit의 나머지 item들과 다른 outfit에서도 함께 등장하지 않은 item을 뜻한다."
   ],
   "cell_type": "markdown",
   "metadata": {}
  },
  {
   "cell_type": "code",
   "execution_count": 1,
   "metadata": {},
   "outputs": [],
   "source": [
    "import os\n",
    "import numpy as np\n",
    "import json\n",
    "from matplotlib import pyplot as plt\n",
    "from collections import defaultdict     ### dictionary의 value에 list를 추가하고싶을 때 이 라이브러리를 쓰면됨\n",
    "from random import *\n",
    "import secrets\n",
    "import random\n",
    "import time\n",
    "from tqdm import tqdm\n",
    "from PIL import Image"
   ]
  },
  {
   "source": [
    "## Json data load\n",
    "\n",
    "train data는 17316개의 outfit으로 구성되어 있다.\n",
    "<br/>\n",
    "valid data는 1497개의 outfit으로 구성되어 있다.\n",
    "<br/>\n",
    "test data는 3076개의 outfit으로 구성되어 있다."
   ],
   "cell_type": "markdown",
   "metadata": {}
  },
  {
   "cell_type": "code",
   "execution_count": 2,
   "metadata": {},
   "outputs": [
    {
     "output_type": "stream",
     "name": "stdout",
     "text": [
      "train_data shape: (17316,)\nvalid_data shape: (1497,)\ntest_data shape:  (3076,)\n"
     ]
    }
   ],
   "source": [
    "### json, image의 path\n",
    "json_path = './polyvore-dataset-master/'\n",
    "image_path = json_path + 'images/'\n",
    "\n",
    "### train, valid, testset의 json read\n",
    "with open(json_path + 'train_no_dup.json', 'r') as f:\n",
    "    train_data = json.load(f)\n",
    "    \n",
    "with open(json_path + 'valid_no_dup.json', 'r') as f:\n",
    "    valid_data = json.load(f)\n",
    "\n",
    "with open(json_path + 'test_no_dup.json', 'r') as f:\n",
    "    test_data = json.load(f)\n",
    "\n",
    "### data 구조 확인\n",
    "print('train_data shape: {}'.format(np.shape(train_data)))\n",
    "print('valid_data shape: {}'.format(np.shape(valid_data)))\n",
    "print('test_data shape:  {}'.format(np.shape(test_data)))"
   ]
  },
  {
   "source": [
    "### Outfit을 구성하는 item의 갯수 중 50% 넘지 않게 item을 random하게 선택한다.\n",
    "\n",
    "* 각 item 별로 등장하는 outfit을 찾는다."
   ],
   "cell_type": "markdown",
   "metadata": {}
  },
  {
   "cell_type": "code",
   "execution_count": 3,
   "metadata": {},
   "outputs": [],
   "source": [
    "### item별로 등장하는 outfit을 찾는다.\n",
    "### defaultdict()를 사용하면 dictionary의 value에 list를 넣기 쉬움\n",
    "train_item2outfit = defaultdict(list)\n",
    "valid_item2outfit = defaultdict(list)\n",
    "test_item2outfit  = defaultdict(list)\n",
    "\n",
    "### train data\n",
    "for i in range(len(train_data)):\n",
    "    list_ids = []\n",
    "    ### 각 outfit에 있는 item들을 list에 저장한다.\n",
    "    for j in range(len(train_data[i]['items'])):\n",
    "        _, ids = train_data[i]['items'][j]['image'].split('id=')\n",
    "        list_ids.append(ids)\n",
    "    ### 저장한 list의 item이 등장하는 outfit을 붙인다.\n",
    "    for j in range(len(list_ids)):\n",
    "        train_item2outfit[list_ids[j]].append(train_data[i]['set_id'])\n",
    "\n",
    "### valid data\n",
    "for i in range(len(valid_data)):\n",
    "    list_ids = []\n",
    "    for j in range(len(valid_data[i]['items'])):\n",
    "        _, ids = valid_data[i]['items'][j]['image'].split('id=')\n",
    "        list_ids.append(ids)\n",
    "    for j in range(len(list_ids)):\n",
    "        valid_item2outfit[list_ids[j]].append(valid_data[i]['set_id'])\n",
    "\n",
    "### test data\n",
    "for i in range(len(test_data)):\n",
    "    list_ids = []\n",
    "    for j in range(len(test_data[i]['items'])):\n",
    "        _, ids = test_data[i]['items'][j]['image'].split('id=')\n",
    "        list_ids.append(ids)\n",
    "    for j in range(len(list_ids)):\n",
    "        test_item2outfit[list_ids[j]].append(test_data[i]['set_id'])\n"
   ]
  },
  {
   "source": [
    "data를 저장해서 확인해본다.\n",
    "<br/>\n",
    "key: item_id, value: outfit_list"
   ],
   "cell_type": "markdown",
   "metadata": {}
  },
  {
   "cell_type": "code",
   "execution_count": 4,
   "metadata": {},
   "outputs": [],
   "source": [
    "save_path = './negative_outfit/'\n",
    "\n",
    "with open(save_path + 'train_item2outfit.json', 'w') as f:\n",
    "    json.dump(train_item2outfit, f, indent=4)\n",
    "\n",
    "with open(save_path + 'valid_item2outfit.json', 'w') as f:\n",
    "    json.dump(valid_item2outfit, f, indent=4)\n",
    "\n",
    "with open(save_path + 'test_item2outfit.json', 'w') as f:\n",
    "    json.dump(test_item2outfit, f, indent=4)"
   ]
  },
  {
   "source": [
    "## Outfit에 있는 item 랜덤하게 sampling하기\n",
    "\n",
    "outfit에 있는 item을 절반이 넘지 않게 랜덤하게 선택해본다.\n",
    "<br/>\n",
    "먼저 outfit 별로 갖고 있는 item을 확인할 수 있도록 간략하게 json file을 만들어본다."
   ],
   "cell_type": "markdown",
   "metadata": {}
  },
  {
   "cell_type": "code",
   "execution_count": 5,
   "metadata": {},
   "outputs": [],
   "source": [
    "### outfit에 등장하는 item들을 저장한다.\n",
    "### defaultdict()를 사용하면 dictionary의 value에 list를 넣기 쉬움\n",
    "train_outfit2item = defaultdict(list)\n",
    "valid_outfit2item = defaultdict(list)\n",
    "test_outfit2item  = defaultdict(list)\n",
    "\n",
    "train_set_ids = []\n",
    "valid_set_ids = []\n",
    "test_set_ids  = []\n",
    "\n",
    "### train data\n",
    "for i in range(len(train_data)):\n",
    "    train_list_ids = []\n",
    "    set_id = train_data[i]['set_id']\n",
    "    train_set_ids.append(set_id)\n",
    "    for j in range(len(train_data[i]['items'])):\n",
    "        _, ids = train_data[i]['items'][j]['image'].split('id=')\n",
    "        train_list_ids.append(ids)\n",
    "\n",
    "    train_outfit2item[set_id] = train_list_ids\n",
    "\n",
    "### valid data\n",
    "for i in range(len(valid_data)):\n",
    "    valid_list_ids = []\n",
    "    set_id = valid_data[i]['set_id']\n",
    "    valid_set_ids.append(set_id)\n",
    "    for j in range(len(valid_data[i]['items'])):\n",
    "        _, ids = valid_data[i]['items'][j]['image'].split('id=')\n",
    "        valid_list_ids.append(ids)\n",
    "\n",
    "    valid_outfit2item[set_id] = valid_list_ids\n",
    "\n",
    "### test data\n",
    "for i in range(len(test_data)):\n",
    "    test_list_ids = []\n",
    "    set_id = test_data[i]['set_id']\n",
    "    test_set_ids.append(set_id)\n",
    "    for j in range(len(test_data[i]['items'])):\n",
    "        _, ids = test_data[i]['items'][j]['image'].split('id=')\n",
    "        test_list_ids.append(ids)\n",
    "\n",
    "    test_outfit2item[set_id] = test_list_ids"
   ]
  },
  {
   "cell_type": "code",
   "execution_count": 6,
   "metadata": {},
   "outputs": [],
   "source": [
    "with open(save_path + 'train_outfit2item.json', 'w') as f:\n",
    "    json.dump(train_outfit2item, f, indent=4)\n",
    "\n",
    "with open(save_path + 'valid_outfit2item.json', 'w') as f:\n",
    "    json.dump(valid_outfit2item, f, indent=4)\n",
    "\n",
    "with open(save_path + 'test_outfit2item.json', 'w') as f:\n",
    "    json.dump(test_outfit2item, f, indent=4)"
   ]
  },
  {
   "source": [
    "outfit 내에서 item을 랜덤하게 50%가 넘지 않게 선택한다. <br/>\n",
    "이 때, 이 item을 대체할 item은 다른 outfit에서 한번도 같이 등장한 적이 없어야한다."
   ],
   "cell_type": "markdown",
   "metadata": {}
  },
  {
   "cell_type": "code",
   "execution_count": 7,
   "metadata": {
    "tags": []
   },
   "outputs": [],
   "source": [
    "train_choice_items = defaultdict(list)\n",
    "valid_choice_items = defaultdict(list)\n",
    "test_choice_items = defaultdict(list)\n",
    "\n",
    "### train data에 대하여\n",
    "for i in range(len(train_data)):\n",
    "    ### rand_num: 각 outfit 별로 random하게 선택할 item의 갯수\n",
    "    set_id = train_data[i]['set_id']\n",
    "    length = len(train_outfit2item[train_set_ids[i]])//2\n",
    "    rand_num = np.random.randint(1, length)\n",
    "    # print(rand_num)\n",
    "    \n",
    "    ### random한 item을 선택한다.\n",
    "    choice = random.choices(train_outfit2item[train_set_ids[i]], k=rand_num)\n",
    "    train_choice_items[set_id] = choice\n",
    "\n",
    "### valid data에 대하여\n",
    "for i in range(len(valid_data)):\n",
    "    set_id = valid_data[i]['set_id']\n",
    "    length = len(valid_outfit2item[valid_set_ids[i]])//2\n",
    "    rand_num = np.random.randint(1, length)\n",
    "\n",
    "    choice = random.choices(valid_outfit2item[valid_set_ids[i]], k=rand_num)\n",
    "    valid_choice_items[set_id] = choice\n",
    "\n",
    "### test data에 대하여\n",
    "for i in range(len(test_data)):\n",
    "    set_id = test_data[i]['set_id']\n",
    "    length = len(test_outfit2item[test_set_ids[i]])//2\n",
    "    rand_num = np.random.randint(1, length)\n",
    "\n",
    "    choice = random.choices(test_outfit2item[test_set_ids[i]], k=rand_num)\n",
    "    test_choice_items[set_id] = choice"
   ]
  },
  {
   "cell_type": "code",
   "execution_count": 8,
   "metadata": {},
   "outputs": [],
   "source": [
    "# key: outfit id, value: negative item으로 선택될 n개의 items\n",
    "with open(save_path + 'train_choice_item.json', 'w') as f:\n",
    "    json.dump(train_choice_items, f, indent=4)\n",
    "\n",
    "with open(save_path + 'valid_choice_item.json', 'w') as f:\n",
    "    json.dump(valid_choice_items, f, indent=4)\n",
    "\n",
    "with open(save_path + 'test_choice_item.json', 'w') as f:\n",
    "    json.dump(test_choice_items, f, indent=4)"
   ]
  },
  {
   "source": [
    "## Category별로 item 집합 만들기"
   ],
   "cell_type": "markdown",
   "metadata": {}
  },
  {
   "cell_type": "code",
   "execution_count": 9,
   "metadata": {},
   "outputs": [],
   "source": [
    "train_cate2item_dict = defaultdict(list)\n",
    "valid_cate2item_dict = defaultdict(list)\n",
    "test_cate2item_dict  = defaultdict(list)\n",
    "\n",
    "for i in range(len(train_data)):\n",
    "    for j in range(len(train_data[i]['items'])):\n",
    "        _, ids = train_data[i]['items'][j]['image'].split('id=')\n",
    "        category_ids = train_data[i]['items'][j]['categoryid']\n",
    "        train_cate2item_dict[category_ids].append(ids)\n",
    "\n",
    "for i in range(len(valid_data)):\n",
    "    for j in range(len(valid_data[i]['items'])):\n",
    "        _, ids = valid_data[i]['items'][j]['image'].split('id=')\n",
    "        category_ids = valid_data[i]['items'][j]['categoryid']\n",
    "        valid_cate2item_dict[category_ids].append(ids)\n",
    "\n",
    "for i in range(len(test_data)):\n",
    "    for j in range(len(test_data[i]['items'])):\n",
    "        _, ids = test_data[i]['items'][j]['image'].split('id=')\n",
    "        category_ids = test_data[i]['items'][j]['categoryid']\n",
    "        test_cate2item_dict[category_ids].append(ids)\n"
   ]
  },
  {
   "cell_type": "code",
   "execution_count": 10,
   "metadata": {
    "tags": []
   },
   "outputs": [],
   "source": [
    "### key: category id, value: item_id\n",
    "with open(save_path + 'train_cate2item.json', 'w') as f:\n",
    "    json.dump(train_cate2item_dict, f, indent=4)\n",
    "\n",
    "with open(save_path + 'valid_cate2item.json', 'w') as f:\n",
    "    json.dump(valid_cate2item_dict, f, indent=4)\n",
    "\n",
    "with open(save_path + 'test_cate2item.json', 'w') as f:\n",
    "    json.dump(test_cate2item_dict, f, indent=4)\n"
   ]
  },
  {
   "source": [
    "## 대체 이미지 찾기\n",
    "1. 같은 category여야한다.\n",
    "2. 다른 outfit에서 item이 함께 등장하지 않아야한다."
   ],
   "cell_type": "markdown",
   "metadata": {}
  },
  {
   "cell_type": "code",
   "execution_count": 11,
   "metadata": {},
   "outputs": [],
   "source": [
    "with open(save_path + 'train_choice_item.json', 'r') as f:\n",
    "    train_choice = json.load(f)\n",
    "with open(save_path + 'valid_choice_item.json', 'r') as f:\n",
    "    valid_choice = json.load(f) \n",
    "with open(save_path + 'test_choice_item.json', 'r') as f:\n",
    "    test_choice = json.load(f)\n",
    "\n",
    "with open(save_path + 'train_cate2item.json', 'r') as f:\n",
    "    train_cate2item = json.load(f)\n",
    "with open(save_path + 'valid_cate2item.json', 'r') as f:\n",
    "    valid_cate2item = json.load(f)\n",
    "with open(save_path + 'test_cate2item.json', 'r') as f:\n",
    "    test_cate2item = json.load(f)\n",
    "    \n",
    "with open(save_path + 'all_item2outfit.json', 'r') as f:\n",
    "    item2outfit = json.load(f)\n",
    "with open(save_path + 'all_outfit2item.json', 'r') as f:\n",
    "    outfit2item = json.load(f)\n",
    "\n",
    "with open(save_path + 'train_outfit2item.json', 'r') as f:\n",
    "    train_item2outfit = json.load(f)\n",
    "with open(save_path + 'valid_outfit2item.json', 'r') as f:\n",
    "    valid_outfit2item = json.load(f)\n",
    "with open(save_path + 'test_outfit2item.json', 'r') as f:\n",
    "    test_outfit2item = json.load(f)"
   ]
  },
  {
   "cell_type": "code",
   "execution_count": 12,
   "metadata": {},
   "outputs": [
    {
     "output_type": "stream",
     "name": "stderr",
     "text": [
      "100%|██████████| 17316/17316 [15:19<00:00, 18.84it/s]919.1365401744843\n",
      "\n"
     ]
    }
   ],
   "source": [
    "\n",
    "before = time.time()\n",
    "\n",
    "train_list = []\n",
    "for outfit, positive_item in tqdm(train_choice.items()):\n",
    "\n",
    "    now_outfit_id = str\n",
    "    now_outfit_list = []\n",
    "    \n",
    "    for key, value in outfit2item.items():\n",
    "        if key == outfit:\n",
    "            now_outfit_id = key\n",
    "            for i in range(len(value)):\n",
    "                now_outfit_list.append(value[i])\n",
    "            break\n",
    "    \n",
    "    replace_items = value\n",
    "\n",
    "    for i in range(len(positive_item)):\n",
    "        item_category = str\n",
    "        for category, item_id in train_cate2item.items():\n",
    "            for j in range(len(item_id)):\n",
    "                if positive_item[i] == item_id[j]:\n",
    "                    item_category = category\n",
    "                    break\n",
    "        \n",
    "        for category, item_id in train_cate2item.items():\n",
    "            if category == item_category:\n",
    "                cand_items = []\n",
    "                for j in range(len(item_id)):\n",
    "                    cand_items.append(item_id[j])\n",
    "               \n",
    "        replace_item = str\n",
    "        while True:\n",
    "            cnt = 0\n",
    "            len_cnt = 0\n",
    "            if len_cnt == len(cand_items):\n",
    "                break\n",
    "            negative_item = random.choice(cand_items)\n",
    "            negative_outfit_list = []\n",
    "            for key, value in item2outfit.items():\n",
    "                if key == negative_item:\n",
    "                    for j in range(len(value)):\n",
    "                        negative_outfit_list.append(value[j])\n",
    "            \n",
    "            for a in range(len(negative_outfit_list)):\n",
    "                for b in range(len(now_outfit_list)):\n",
    "                    if negative_outfit_list[a] == now_outfit_list[b]:\n",
    "                        cnt += 1\n",
    "            if cnt == 0:\n",
    "                replace_item = negative_item\n",
    "                break\n",
    "            len_cnt += 1\n",
    "        \n",
    "        # 대체 item을 원래의 item과 교체한다.\n",
    "        positive_item[i] == replace_item\n",
    "        for j in range(len(replace_items)):\n",
    "            if positive_item[i] == replace_items[j]:\n",
    "                replace_items[j] = replace_item\n",
    "    # if len(positive_item) > 1:\n",
    "        # print(len(positive_item), ' ', replace_items)\n",
    "    train_list.append(replace_items)         \n",
    "print(time.time()-before)  "
   ]
  },
  {
   "source": [
    "\n",
    "before = time.time()\n",
    "\n",
    "valid_list = []\n",
    "for outfit, positive_item in tqdm(valid_choice.items()):\n",
    "\n",
    "    now_outfit_id = str\n",
    "    now_outfit_list = []\n",
    "    \n",
    "    for key, value in outfit2item.items():\n",
    "        if key == outfit:\n",
    "            now_outfit_id = key\n",
    "            for i in range(len(value)):\n",
    "                now_outfit_list.append(value[i])\n",
    "            break\n",
    "    \n",
    "    replace_items = value\n",
    "\n",
    "    for i in range(len(positive_item)):\n",
    "        item_category = str\n",
    "        for category, item_id in valid_cate2item.items():\n",
    "            for j in range(len(item_id)):\n",
    "                if positive_item[i] == item_id[j]:\n",
    "                    item_category = category\n",
    "                    break\n",
    "        \n",
    "        for category, item_id in valid_cate2item.items():\n",
    "            if category == item_category:\n",
    "                cand_items = []\n",
    "                for j in range(len(item_id)):\n",
    "                    cand_items.append(item_id[j])\n",
    "               \n",
    "        replace_item = str\n",
    "        while True:\n",
    "            cnt = 0\n",
    "            len_cnt = 0\n",
    "            if len_cnt == len(cand_items):\n",
    "                break\n",
    "            negative_item = random.choice(cand_items)\n",
    "            negative_outfit_list = []\n",
    "            for key, value in item2outfit.items():\n",
    "                if key == negative_item:\n",
    "                    for j in range(len(value)):\n",
    "                        negative_outfit_list.append(value[j])\n",
    "            \n",
    "            for a in range(len(negative_outfit_list)):\n",
    "                for b in range(len(now_outfit_list)):\n",
    "                    if negative_outfit_list[a] == now_outfit_list[b]:\n",
    "                        cnt += 1\n",
    "            if cnt == 0:\n",
    "                replace_item = negative_item\n",
    "                break\n",
    "            len_cnt += 1\n",
    "        \n",
    "        # 대체 item을 원래의 item과 교체한다.\n",
    "        positive_item[i] == replace_item\n",
    "        for j in range(len(replace_items)):\n",
    "            if positive_item[i] == replace_items[j]:\n",
    "                replace_items[j] = replace_item\n",
    "    # if len(positive_item) > 1:\n",
    "        # print(len(positive_item), ' ', replace_items)\n",
    "    valid_list.append(replace_items)         \n",
    "print(time.time()-before)  "
   ],
   "cell_type": "code",
   "metadata": {
    "tags": []
   },
   "execution_count": 13,
   "outputs": [
    {
     "output_type": "stream",
     "name": "stderr",
     "text": [
      "100%|██████████| 1497/1497 [00:41<00:00, 36.38it/s]41.156988859176636\n",
      "\n"
     ]
    }
   ]
  },
  {
   "cell_type": "code",
   "execution_count": 14,
   "metadata": {},
   "outputs": [
    {
     "output_type": "stream",
     "name": "stderr",
     "text": [
      "100%|██████████| 3076/3076 [01:32<00:00, 33.27it/s]92.45711064338684\n",
      "\n"
     ]
    }
   ],
   "source": [
    "\n",
    "before = time.time()\n",
    "\n",
    "test_list = []\n",
    "for outfit, positive_item in tqdm(test_choice.items()):\n",
    "\n",
    "    now_outfit_id = str\n",
    "    now_outfit_list = []\n",
    "    \n",
    "    for key, value in outfit2item.items():\n",
    "        if key == outfit:\n",
    "            now_outfit_id = key\n",
    "            for i in range(len(value)):\n",
    "                now_outfit_list.append(value[i])\n",
    "            break\n",
    "    \n",
    "    replace_items = value\n",
    "\n",
    "    for i in range(len(positive_item)):\n",
    "        item_category = str\n",
    "        for category, item_id in test_cate2item.items():\n",
    "            for j in range(len(item_id)):\n",
    "                if positive_item[i] == item_id[j]:\n",
    "                    item_category = category\n",
    "                    break\n",
    "        \n",
    "        for category, item_id in test_cate2item.items():\n",
    "            if category == item_category:\n",
    "                cand_items = []\n",
    "                for j in range(len(item_id)):\n",
    "                    cand_items.append(item_id[j])\n",
    "               \n",
    "        replace_item = str\n",
    "        while True:\n",
    "            cnt = 0\n",
    "            len_cnt = 0\n",
    "            if len_cnt == len(cand_items):\n",
    "                break\n",
    "            negative_item = random.choice(cand_items)\n",
    "            negative_outfit_list = []\n",
    "            for key, value in item2outfit.items():\n",
    "                if key == negative_item:\n",
    "                    for j in range(len(value)):\n",
    "                        negative_outfit_list.append(value[j])\n",
    "            \n",
    "            for a in range(len(negative_outfit_list)):\n",
    "                for b in range(len(now_outfit_list)):\n",
    "                    if negative_outfit_list[a] == now_outfit_list[b]:\n",
    "                        cnt += 1\n",
    "            if cnt == 0:\n",
    "                replace_item = negative_item\n",
    "                break\n",
    "            len_cnt += 1\n",
    "        \n",
    "        # 대체 item을 원래의 item과 교체한다.\n",
    "        positive_item[i] == replace_item\n",
    "        for j in range(len(replace_items)):\n",
    "            if positive_item[i] == replace_items[j]:\n",
    "                replace_items[j] = replace_item\n",
    "    # if len(positive_item) > 1:\n",
    "        # print(len(positive_item), ' ', replace_items)\n",
    "    test_list.append(replace_items)         \n",
    "print(time.time()-before)  "
   ]
  },
  {
   "cell_type": "code",
   "execution_count": 15,
   "metadata": {
    "tags": [
     "outputPrepend"
    ]
   },
   "outputs": [
    {
     "output_type": "stream",
     "name": "stdout",
     "text": [
      "543']\n['116067447', '98504776', '76805936', '97806863', '88577636']\n['172918272', '57805737', '21254676', '44893885']\n['148259102', '98080008', '101458569', '93410767', '101375129', '67460310', '157396941', '162012748']\n['127628179', '121094998', '127690783', '183503755', '119492890', '113689314', '85879605', '125266145']\n['126542656', '164933366', '127887736', '103997656', '129900237', '112540418']\n['121681698', '111162502', '151369626', '129989677', '61687670', '102533535']\n['144873554', '111019632', '159586567', '182801618']\n['181880569', '135743878', '179203798', '157968873', '169810018', '193932639']\n['114440717', '133296417', '129732874', '110604802', '148297190', '131601904', '132928958']\n['162456866', '133122120', '133875394', '133875387', '133875389', '146737077']\n['92094490', '66368710', '85884359', '105576133']\n['195744116', '195744111', '195528436', '195079694', '195745425']\n['195078869', '182976972', '195079255', '140325597', '194492128', '195080867']\n['102452615', '7856227', '103227149', '103636592', '105447563', '63525876', '105497868', '104292374']\n['105186612', '194219964', '65603083', '67613348', '64275690']\n['19506825', '171335544', '133274387', '133088284']\n['165611026', '117109708', '114474355', '124510802']\n['122192024', '112918185', '95571199', '160061592', '105381563', '101123553', '56518904']\n['194282065', '170470503', '60540160', '183282928', '185165274', '65960411', '193820600', '194026812']\n['187315081', '183869845', '168503240', '185893030', '184186110', '152073022']\n['97901963', '183214727', '188425631', '189293266']\n['111019632', '115028378', '105856486', '113645134', '176753402', '90976419']\n['135802665', '137990015', '114767693', '139430934', '135189717', '107550653']\n['110769044', '113629491', '105871641', '76491023', '98581047']\n['40534529', '142368363', '136180692', '154058550', '143564698', '153673517', '170452720', '171191540']\n['84062540', '151955678', '100880672', '84381803', '49491311', '102436265', '48308017', '170451904']\n['141837298', '146928543', '139823329', '17109793', '84385476', '116391617']\n['194647471', '199460622', '194638509', '194281825', '194246405', '199541863', '193574064', '194072186']\n['200373721', '200384089', '200373745', '200376566', '200376566', '200376491', '200376449', '200373688']\n['146565812', '173208528', '139578128', '132546639']\n['182987674', '188613306', '200781867', '139385235', '174529919', '183224355']\n['184847137', '188237126', '175171198', '170546547', '190370228']\n['197114583', '197232784', '197114741', '194216098', '197115358']\n['160022037', '19506825', '102586052', '164427452', '167892579', '164839163', '148756175']\n['180331250', '71384869', '76506737', '100135433']\n['93357552', '64357143', '190397433', '190397433', '176258240', '191134390', '143564698', '113178612']\n['103088065', '95237973', '103381860', '174581645', '113516415', '112203193', '170652419', '100358296']\n['134305083', '101774471', '102413183', '104688789', '98393320', '105164930', '103261966', '103082583']\n['186060103', '195225012', '195224413', '195224828', '191440222', '195225413']\n['197973822', '113060405', '160564422', '139448108', '96298785', '165509306', '152928497', '92334963']\n['143799543', '133236339', '144086919', '143096202', '196570756', '145662532', '139480346']\n['102139000', '200211924', '59668142', '109571105', '130416338']\n['145384798', '146038545', '120579050', '130880408', '105232445', '159302084', '143172083', '2379327']\n['177508960', '177472900', '132696197', '180365406']\n['193379321', '173039589', '192471666', '194247004', '148780524', '162640444']\n['197225678', '193968135', '183941076', '166098579']\n['177929708', '178418010', '167211150', '176416405', '158649670']\n['150138281', '148125688', '107377672', '148144750', '138201757']\n['101109178', '89152548', '88672165', '95435677', '94789945', '169562088', '96961671', '95273189']\n['188879338', '170444753', '197482725', '187318245', '102987819', '13568831']\n['177817103', '120680192', '60149952', '150042093', '45494949', '121417635', '84585080', '113159235']\n['101995324', '101847164', '101187830', '196093568']\n['93758817', '147418131', '98037946', '93852146', '98038010', '93774528', '124408217', '94800735']\n['161046816', '188183944', '182162970', '169335236', '158082578', '168438160', '112235301']\n['118707961', '141801246', '100802511', '138803666', '167134987', '133552453']\n['189007919', '189656322', '147568145', '198559418', '189009018', '187207608', '188674833', '186164225']\n['127774384', '88804115', '48669984', '109308481', '17602869', '80426260', '145605442', '173705922']\n['135781099', '140994506', '140516514', '100428003']\n['171546858', '132079078', '179012161', '179012162', '96333781']\n['166270226', '187372147', '189805956', '143488025', '20828303', '171140314']\n['194103023', '194103098', '191090630', '193198543', '191060846', '180040087', '191097017', '191114034']\n['160527895', '177973423', '181232874', '181531011', '181910063', '144567489', '170232563']\n['54526796', '174549775', '127234834', '164029298', '106296673']\n['146269783', '192255184', '192818622', '192818830']\n['101355528', '68976915', '103048066', '73772877', '109337668', '107332821']\n['116493107', '179975429', '118632225', '117477143', '117485054', '115289247']\n['78365618', '191639049', '165815922', '148385768', '174952504', '177005001', '200627755', '176277821']\n['116834698', '115249728', '117693672', '161591864', '112242911']\n['106524643', '188796744', '102369502', '188797979', '181016999', '159461967', '179344173', '179347666']\n['152350533', '115558299', '115499814', '44676189', '97091544', '107602382', '127515333', '192444389']\n['191311497', '125322665', '191339487', '191339787', '191339797', '178521821']\n['175770144', '177386834', '171335544', '161591707', '180262362', '177727582']\n['143059889', '139873296', '141100377', '92346037', '115347179', '112951573']\n['166525699', '193874984', '195633377', '185250090', '166494667', '198517059']\n['194410163', '194855788', '170521338', '183150439', '190617931', '193520224']\n['196554944', '192776025', '177533375', '50836293']\n['110772473', '187951176', '102648117', '199367174', '126953299', '107333685']\n['142553370', '129880505', '144582381', '140316898', '144487159', '112514997']\n['167785355', '157567260', '167063250', '170086035', '108576035']\n['151020742', '119646232', '92597983', '89616203', '103739574', '98547719']\n['188783543', '151482163', '124180791', '161317250', '134666461', '190461701']\n['174259346', '173251863', '174260871', '174312463', '128183238']\n['134526144', '131030333', '134104525', '88438853']\n['92289522', '196123130', '182942623', '175967609', '181777820', '137494124', '153746451', '182280562']\n['109544795', '79771213', '107257976', '171140262', '109606274', '108196827', '178681182']\n['173216309', '101845945', '187236005', '187113178', '179989482']\n['196954128', '192686078', '191465138', '198370631', '192685287', '196445281', '187534088', '165938994']\n['160028092', '184312149', '188601924', '183585924', '183954233', '179899121']\n['194632589', '194595906', '133856590', '197617698', '183027944']\n['194595870', '194595432', '194595906', '101456198']\n['138285476', '134376656', '137084324', '142783304', '175183487']\n['104475905', '191514774', '183731773', '113230207', '102598403']\n['25490893', '104305256', '104669072', '178235031', '105788498', '17189089', '29384186', '23138321']\n['116067447', '114529252', '40174909', '160484171', '9022851', '113175142', '109718702', '164215987']\n['184056429', '184052562', '199541863', '184054251', '184053331']\n['154691431', '135044232', '145777580', '104161699', '143858525', '153878233', '152142296', '153783646']\n['81787595', '114815697', '69245226', '69245286', '67021528', '66739975', '82721637', '43665707']\n['186221108', '182778621', '172498554', '186079382', '186739628', '185470728', '184539793', '147204351']\n['171296800', '134794097', '156049079', '162404773', '158040070', '184670914', '161201960', '184467997']\n['198365477', '163763926', '198367181', '191195737', '198367862']\n['167065034', '175916938', '86981870', '183067885', '150042093', '181361826', '117158058']\n['142454574', '183731773', '128578023', '145096413', '142522213']\n['191581688', '164268559', '147324956', '171226667', '194442883']\n['134994104', '130442198', '82438544', '129831849', '126604532', '135671954', '129874970']\n['74596177', '139852635', '106452114', '12801512', '35731317', '106827359', '15489377', '98469489']\n['200849082', '200849031', '199750523', '106744464', '183351190']\n['122495896', '95352502', '198327382', '131558497', '156478843', '187729307', '185377150', '199582274']\n['119117345', '184514379', '193699346', '150966927', '47114363', '6501864', '199323050', '194427263']\n['179100874', '141474849', '193292763', '198367186', '192166766', '197017749']\n['50574870', '194214997', '65392450', '74699366', '119859647', '62212791']\n['121983541', '183539619', '90549036', '180854796', '181040685', '153744471', '95721404', '102116685']\n['91507503', '85414330', '101748316', '102197648', '74202552', '112474435', '29624319', '81503013']\n['199504764', '136897478', '106927524', '199555498', '199545662', '199545653']\n['129694036', '128433196', '130480366', '133920206', '130028330', '133295646', '116568328', '109533271']\n['195818527', '195000428', '195071747', '194296346', '194649222']\n['125322665', '94201433', '70796776', '157248981']\n['139323987', '139111576', '136424468', '138259324']\n['194689505', '172557661', '199582320', '186622462']\n['165646124', '155714962', '106600176', '161137303', '164067122', '167134987']\n['177025460', '177025482', '177012704', '174370999', '132696197']\n['140919876', '134999121', '159376568', '141998788', '139674816', '137619736', '133089691']\n['125638303', '151940042', '86345089', '119414257', '124374712', '125029742', '181404134', '122349229']\n['140984362', '160093487', '109283737', '65117681', '189567365', '167142930']\n['190709043', '189010381', '196692803', '178945231', '196706351', '184469402']\n['129393237', '115215924', '170628864', '126141667', '128588747', '127630326', '128183238', '152073022']\n['99748205', '116801890', '116825796', '102033514']\n['165012267', '167227338', '168702118', '160200163', '106251803', '138465786', '176420576']\n['162048410', '186724071', '153870656', '184990152', '192641557', '182183491', '189125349', '191170031']\n['193653807', '104292374', '179372966', '194093003', '193929141']\n['117015163', '128098469', '115159903', '84647820']\n['111695932', '54009080', '64943444', '186603571']\n['190413705', '188238150', '177759349', '115963194', '119859647']\n['144009960', '155629469', '164550126', '163271027', '157814279', '153974223', '116704377', '95838613']\n['197577086', '151520880', '193943925', '193943901', '192585061']\n['104397973', '103204850', '138700080', '89898150', '138715013', '84420443', '138700416', '138690773']\n['78325048', '90618253', '84208888', '96446101', '97263611', '92356738', '93721720', '98926214']\n['191155995', '190242288', '191156564', '190398529']\n['94229496', '194034080', '184357547', '196484031', '159700800']\n['160720723', '194491648', '171798976', '174292213', '108529942', '142368363', '185217176', '164523216']\n['173637803', '196285378', '171171646', '150833813', '143279053']\n['142908736', '184886934', '155771810', '171689396', '176128609']\n['108356116', '107106952', '182494910', '37524916', '38695956', '115259239', '116928016']\n['174107194', '181780665', '161361175', '153469409', '184529785', '61242829']\n['190617630', '190617931', '138490182', '190618495', '190618716', '169958999']\n['199070491', '199070547', '199476548', '199476540', '185299855']\n['191736118', '159124295', '142521634', '160622268', '159148383']\n['162799554', '118486206', '134341432', '140498737', '148622053', '96099098']\n['186066293', '178468316', '188517802', '188024914', '187520412', '81508588']\n['109457458', '110284778', '168932649', '104257605', '110810708', '164250378', '109836740', '110257094']\n['134995588', '116131925', '163807984', '135443677']\n['175823909', '160988883', '173026136', '149546365', '176090505']\n['157982563', '70386730', '163310841', '130129514', '130146004', '150413513', '143798077']\n['153284326', '190512450', '152071801', '171761282', '174937336']\n['185803309', '76162964', '125599278', '120400480']\n['120753286', '129613851', '128443710', '127942643', '130880408', '123962254']\n['96729247', '109634231', '109328241', '80820508', '39859625', '66433632', '85880583', '55016071']\n['200140512', '199700028', '200011685', '160754907']\n['198682315', '197134692', '198344110', '141646804', '83825262', '89449124', '88102153']\n['196292388', '196292280', '100428003', '196292335', '135014960', '193968135']\n['24836148', '99761184', '61274649', '130432087', '121173213', '21587048', '109603213', '48302423']\n['182636649', '136869536', '183537821', '135542935', '182319658']\n['174140423', '140436261', '179887372', '179887161', '145630879', '80606502', '190015751']\n['136087483', '172233602', '178693025', '173590263', '174534951']\n['194405239', '194405628', '194322184', '194408004', '188392485']\n['115064159', '200474143', '200473938', '195904558']\n['199214714', '162058784', '197462553', '45387219']\n['97136050', '169963820', '70443968', '101371103', '101267438', '100761044']\n['108644367', '93120555', '44069298', '56965498', '43506610', '97271604', '89151715', '25914299']\n['183950460', '174539002', '65688942', '155226915', '183950727', '183951306']\n['112525977', '138768122', '85880583', '107665337', '106766843', '114165288', '191251340', '113698442']\n['177817103', '188905499', '102374216', '182316925', '180622845', '64999874']\n['189761557', '90003842', '186023221', '191756280', '189299486', '190514168']\n['150181795', '126160489', '124535449', '126072565', '125659590']\n['101835950', '101759264', '160406750', '101233051', '94336863']\n['117931546', '116257695', '96599110', '114270058', '157756935', '119697130', '98728540', '117639997']\n['123916110', '112320644', '120312802', '116267896']\n['113028721', '106047068', '111343488', '105162490', '112454832', '118048996', '162631750']\n['192920211', '193650320', '125064957', '178398758', '192582443', '190429950']\n['171238102', '146587554', '195153636', '188046571', '81869795', '146093956', '171360656', '172803041']\n['90468002', '183960263', '178193886', '100802511', '180326570', '183960930']\n['183011939', '105566599', '112879954', '112327115', '98359871', '117715131', '113093607', '114987739']\n['153549715', '159120364', '150850144', '129379281']\n['166512689', '61190929', '111079301', '81225996', '100773357']\n['138108716', '180033112', '94433967', '142349634', '152233736', '157819104']\n['145513229', '151394306', '150816157', '194217331']\n['200459175', '195578458', '200459443', '192528969', '189946675']\n['196153418', '196153441', '195360286', '163033401', '190299858', '768472']\n['131405499', '105584868', '129577183', '131992350', '103997656', '197317128', '130451302']\n['100752822', '68659817', '104512655', '96877198', '85923769', '112203193', '76741107']\n['166424847', '113871402', '108176866', '111727496', '113398639']\n['141188905', '141753196', '138810177', '145989419', '95788322']\n['126802653', '148971939', '76491023', '150350201', '147644467', '33214113']\n['195681388', '195681177', '195679881', '184603392', '195739495']\n['112034290', '176600675', '133171432', '192683500', '69473212', '69473213']\n['128292556', '107694476', '27438803', '126062400', '137984031']\n['121152068', '168223123', '177472900', '114562978', '28537342']\n['138863708', '109671390', '137465260', '158556156', '117384628', '132757623', '33318928']\n['188709003', '181921126', '195413167', '187626177', '195508602', '193838233']\n['181061668', '181061564', '171425715', '171425715', '179947748', '175186698']\n['139813113', '97539712', '138022410', '139813545']\n['172507091', '188745467', '160125921', '184455272', '187062305']\n['190904120', '164665901', '192893054', '193701118', '168201663', '193553582', '162048410']\n['120225076', '119641775', '122188479', '117375828', '123450786', '81861779', '181838942']\n['90312030', '137791375', '64046518', '143360526', '141498155', '142269723', '139439435']\n['157049461', '199270186', '153633836', '162455659', '162413549']\n['107514787', '7988982', '77308813', '20309846', '79035893', '115884403', '91519819']\n['90729799', '118574817', '71901935', '106880572', '83728139']\n['124858765', '76129070', '144552058', '156490946', '166706465', '170345145', '164215987']\n['190657487', '164913703', '193579899', '126390198', '61879149', '153744471', '189173004', '188342829']\n['100056625', '100480250', '200326776', '100480049', '100481508', '100480666', '100480355']\n['126174329', '160493579', '62455467', '132582742']\n['188751994', '182440189', '167464610', '181834833', '185203531', '177355641', '165899009', '92334963']\n['178778015', '163540193', '154907146', '174008602', '82312740']\n['153849656', '184847137', '139433852', '187736215', '187736277', '178681182', '187710709']\n['7196360', '102204311', '29114120', '101610630', '102904911', '41223488', '81192816', '195294789']\n['178413639', '98973099', '191822211', '182675240']\n['102216539', '92127596', '101785407', '86683909', '119071447', '132593444', '99632392', '77945433']\n['172996529', '150966428', '171702569', '172199140', '172271988', '178223592']\n['179338735', '181214106', '184024113', '179140494', '160323131']\n['101650485', '91248916', '99300082', '51068752', '78383080']\n['190512352', '190512427', '190512204', '190512285', '190512427', '161088803']\n['154221815', '153576795', '197435189', '159479099', '159874180']\n['184530653', '109869631', '108644385', '57805737', '109869697', '109807586', '61277325', '88053137']\n['143351555', '146798703', '195745597', '153058345', '150658395', '145034717', '150578457']\n['176761570', '192779689', '192815936', '192826517', '192827902', '72250289']\n['177566992', '167966779', '175456395', '167595867', '175144895', '176852510', '172847424']\n['167227338', '156358925', '151534530', '148994249', '152073022', '163155764']\n['177687201', '161218090', '164948666', '164948669', '173181066', '110403860', '181730719', '180331561']\n['81151065', '102407830', '127852049', '97035176']\n['145465377', '128167794', '127852049', '128229335', '130383026']\n['167721335', '167720944', '89406639', '166323398', '138012833']\n['133405070', '133241189', '133242147', '161905584']\n['180105435', '180067635', '180105426', '163797849', '180125358', '76371725']\n['78941982', '141296555', '144722767', '145658202', '145662532', '139912206', '114483299']\n['120893267', '176190127', '72538003', '97762824', '39457893', '29247293']\n['169810018', '111510801', '111176534', '111122911']\n['107260701', '107147346', '108859765', '160493579', '109248298', '61581551']\n['95261367', '99651272', '99790883', '99353764', '70187000', '161453518', '99218695']\n['193521769', '186741005', '171803421', '173967743', '180866017', '194321479', '187083944', '174137468']\n['105315765', '2880199', '148994249', '10875614', '2804638']\n['169690057', '172708991', '175291781', '29925160', '158929796', '173652830']\n['129369258', '171377784', '123845855', '128935646']\n['183613703', '101261650', '191589153', '189211466', '179960085']\n['86293967', '173477766', '172984562', '172984758', '171609389', '172538120', '168076153']\n['197418282', '196352921', '188340038', '171438004', '109153216', '174769671', '93721720', '198622674']\n['78048284', '170747662', '189153122', '184000123', '177538024', '176678594']\n['140966615', '165815922', '185397712', '181512259']\n['193522725', '193523444', '193524299', '176379019']\n['195216377', '195218853', '135397061', '190866330']\n['186285882', '193954409', '193953966', '45752486', '188815236']\n['143774370', '151091382', '151867860', '146730061', '147124527', '82602036']\n['108644367', '151385890', '160699294', '182339535']\n['158556717', '152742905', '121893186', '49536994', '154141561', '144317175', '41127792']\n['97393493', '198344110', '103095227', '90716077']\n['114000223', '165892855', '185813698', '200507554', '164333067', '200508538']\n['101789760', '67397355', '200275533', '200275542']\n"
     ]
    }
   ],
   "source": [
    "for i in range(len(valid_list)):\n",
    "    print(valid_list[i])"
   ]
  },
  {
   "cell_type": "code",
   "execution_count": 16,
   "metadata": {},
   "outputs": [],
   "source": [
    "# key: outfit id, value: negative item으로 선택될 n개의 items\n",
    "with open(save_path + 'train_new_outfit.json', 'w') as f:\n",
    "    json.dump(train_list, f, indent=4)\n",
    "\n",
    "with open(save_path + 'valid_new_outfit.json', 'w') as f:\n",
    "    json.dump(valid_list, f, indent=4)\n",
    "\n",
    "with open(save_path + 'test_new_outfit.json', 'w') as f:\n",
    "    json.dump(test_list, f, indent=4)"
   ]
  },
  {
   "cell_type": "code",
   "execution_count": 17,
   "metadata": {},
   "outputs": [],
   "source": [
    "import os \n",
    "def createDirectory(directory): \n",
    "    try: \n",
    "        if not os.path.exists(directory): \n",
    "            os.makedirs(directory) \n",
    "    except OSError: \n",
    "        print(\"Error: Failed to create the directory.\")\n"
   ]
  },
  {
   "source": [
    "이미지를 저장해보자\n",
    "<br/>\n",
    "원본의 outfit과 새로 구성한 outfit의 id를 비교한다. <br/>\n",
    "서로 다른 item id가 나오기 전까지 해당 outfit 폴더에 image를 저장한다. <br/>\n",
    "다른 item id가 나온다면, 새로 구성한 outfit의 그 item id가 등장하는 outfit id를 찾는다. <br/>\n",
    "그 outfit에서 몇번째에 등장하는지 찾는다. <br/>"
   ],
   "cell_type": "markdown",
   "metadata": {}
  },
  {
   "cell_type": "code",
   "execution_count": 18,
   "metadata": {},
   "outputs": [],
   "source": [
    "for outfit, items in train_outfit2item.items():\n",
    "    createDirectory(save_path + 'images/{}'.format(outfit))\n",
    "\n",
    "for outfit, items in valid_outfit2item.items():\n",
    "    createDirectory(save_path + 'images/{}'.format(outfit))\n",
    "\n",
    "for outfit, items in test_outfit2item.items():\n",
    "    createDirectory(save_path + 'images/{}'.format(outfit))\n"
   ]
  },
  {
   "cell_type": "code",
   "execution_count": 19,
   "metadata": {},
   "outputs": [
    {
     "output_type": "stream",
     "name": "stderr",
     "text": [
      "100%|██████████| 17316/17316 [00:00<00:00, 171447.04it/s]\n",
      "  0%|          | 0/17316 [00:00<?, ?it/s]\n",
      "\n",
      "['194508109', '188778349', '188977857', '194942557', '194941874', '194578327', '190204630']\n",
      "['194088670', '133292224', '188977857', '194942557', '194941874', '194578327', '190204630']\n",
      "214181831\n",
      "100%|██████████| 17316/17316 [50:07<00:00,  5.76it/s]3007.4126467704773\n",
      "\n"
     ]
    }
   ],
   "source": [
    "item_list = []\n",
    "set_ids = []\n",
    "# 원본 outfit을 구성하는 item들\n",
    "for i in tqdm(range(len(train_data))):\n",
    "    lst = []\n",
    "    set_id = train_data[i]['set_id']\n",
    "    for j in range(len(train_data[i]['items'])):\n",
    "        _, item_id = train_data[i]['items'][j]['image'].split('id=')\n",
    "        lst.append(item_id)\n",
    "    item_list.append(lst)\n",
    "    set_ids.append(set_id)\n",
    "print('\\n')\n",
    "print(item_list[0])     # positive\n",
    "print(train_list[0])    # negative\n",
    "print((set_ids[0]))\n",
    "before = time.time()\n",
    "for i in tqdm(range(len(train_list))):\n",
    "    for j in range(len(train_list[i])):\n",
    "        item_outfit = str\n",
    "        train_outfit = str\n",
    "\n",
    "        if train_list[i][j] == item_list[i][j]:\n",
    "            img = Image.open(image_path + '{}/{}.jpg'.format(set_ids[i], j+1)).convert('RGB')\n",
    "            img.save(save_path + 'images/{}/{}.jpg'.format(set_ids[i], j+1))\n",
    "        else:\n",
    "            for item, outfit in item2outfit.items():\n",
    "                if train_list[i][j] == item:\n",
    "                    for train_outfit, train_items in train_outfit2item.items():\n",
    "                        for k in range(len(train_items)):\n",
    "                            if train_list[i][j] == train_items[k]:\n",
    "                                img = Image.open(image_path + '{}/{}.jpg'.format(train_outfit, k+1)).convert('RGB')\n",
    "                                break\n",
    "                    img.save(save_path+ 'images/{}/{}.jpg'.format(set_ids[i],j+1))\n",
    "                        \n",
    "\n",
    "print(time.time()-before)"
   ]
  },
  {
   "cell_type": "code",
   "execution_count": 20,
   "metadata": {
    "tags": []
   },
   "outputs": [
    {
     "output_type": "stream",
     "name": "stderr",
     "text": [
      "100%|██████████| 1497/1497 [00:00<00:00, 166314.55it/s]\n",
      "  0%|          | 3/1497 [00:00<01:02, 23.81it/s]\n",
      "\n",
      "['148259102', '78433673', '121464208', '151052339']\n",
      "['148259102', '78433673', '121464208', '151052339']\n",
      "209512492\n",
      "100%|██████████| 1497/1497 [01:41<00:00, 14.73it/s]101.6490740776062\n",
      "\n"
     ]
    }
   ],
   "source": [
    "item_list = []\n",
    "set_ids = []\n",
    "# 원본 outfit을 구성하는 item들\n",
    "for i in tqdm(range(len(valid_data))):\n",
    "    lst = []\n",
    "    set_id = valid_data[i]['set_id']\n",
    "    for j in range(len(valid_data[i]['items'])):\n",
    "        _, item_id = valid_data[i]['items'][j]['image'].split('id=')\n",
    "        lst.append(item_id)\n",
    "    item_list.append(lst)\n",
    "    set_ids.append(set_id)\n",
    "print('\\n')\n",
    "print(item_list[0])     # positive\n",
    "print(valid_list[0])    # negative\n",
    "print((set_ids[0]))\n",
    "before = time.time()\n",
    "for i in tqdm(range(len(valid_list))):\n",
    "    for j in range(len(valid_list[i])):\n",
    "        item_outfit = str\n",
    "        valid_outfit = str\n",
    "\n",
    "        if valid_list[i][j] == item_list[i][j]:\n",
    "            img = Image.open(image_path + '{}/{}.jpg'.format(set_ids[i], j+1)).convert('RGB')\n",
    "            img.save(save_path + 'images/{}/{}.jpg'.format(set_ids[i], j+1))\n",
    "        else:\n",
    "            for item, outfit in item2outfit.items():\n",
    "                if valid_list[i][j] == item:\n",
    "                    for valid_outfit, valid_items in valid_outfit2item.items():\n",
    "                        for k in range(len(valid_items)):\n",
    "                            if valid_list[i][j] == valid_items[k]:\n",
    "                                img = Image.open(image_path + '{}/{}.jpg'.format(valid_outfit, k+1)).convert('RGB')\n",
    "                                break\n",
    "                    img.save(save_path+ 'images/{}/{}.jpg'.format(set_ids[i],j+1))\n",
    "                        \n",
    "\n",
    "print(time.time()-before)"
   ]
  },
  {
   "cell_type": "code",
   "execution_count": 21,
   "metadata": {},
   "outputs": [
    {
     "output_type": "stream",
     "name": "stderr",
     "text": [
      "100%|██████████| 3076/3076 [00:00<00:00, 161902.41it/s]\n",
      "  0%|          | 0/3076 [00:00<?, ?it/s]\n",
      "\n",
      "['102972440', '103394173', '91303250', '94989504', '103184729']\n",
      "['172684470', '103394173', '91303250', '94989504', '103184729']\n",
      "119704139\n",
      "100%|██████████| 3076/3076 [06:38<00:00,  7.72it/s]398.5117516517639\n",
      "\n"
     ]
    }
   ],
   "source": [
    "item_list = []\n",
    "set_ids = []\n",
    "# 원본 outfit을 구성하는 item들\n",
    "for i in tqdm(range(len(test_data))):\n",
    "    lst = []\n",
    "    set_id = test_data[i]['set_id']\n",
    "    for j in range(len(test_data[i]['items'])):\n",
    "        _, item_id = test_data[i]['items'][j]['image'].split('id=')\n",
    "        lst.append(item_id)\n",
    "    item_list.append(lst)\n",
    "    set_ids.append(set_id)\n",
    "print('\\n')\n",
    "print(item_list[0])     # positive\n",
    "print(test_list[0])    # negative\n",
    "print((set_ids[0]))\n",
    "before = time.time()\n",
    "for i in tqdm(range(len(test_list))):\n",
    "    for j in range(len(test_list[i])):\n",
    "        item_outfit = str\n",
    "        test_outfit = str\n",
    "\n",
    "        if test_list[i][j] == item_list[i][j]:\n",
    "            img = Image.open(image_path + '{}/{}.jpg'.format(set_ids[i], j+1)).convert('RGB')\n",
    "            img.save(save_path + 'images/{}/{}.jpg'.format(set_ids[i], j+1))\n",
    "        else:\n",
    "            for item, outfit in item2outfit.items():\n",
    "                if test_list[i][j] == item:\n",
    "                    for test_outfit, test_items in test_outfit2item.items():\n",
    "                        for k in range(len(test_items)):\n",
    "                            if test_list[i][j] == test_items[k]:\n",
    "                                img = Image.open(image_path + '{}/{}.jpg'.format(test_outfit, k+1)).convert('RGB')\n",
    "                                break\n",
    "                    img.save(save_path+ 'images/{}/{}.jpg'.format(set_ids[i],j+1))\n",
    "                        \n",
    "\n",
    "print(time.time()-before)"
   ]
  },
  {
   "cell_type": "code",
   "execution_count": null,
   "metadata": {},
   "outputs": [],
   "source": []
  },
  {
   "cell_type": "code",
   "execution_count": null,
   "metadata": {},
   "outputs": [],
   "source": []
  }
 ]
}